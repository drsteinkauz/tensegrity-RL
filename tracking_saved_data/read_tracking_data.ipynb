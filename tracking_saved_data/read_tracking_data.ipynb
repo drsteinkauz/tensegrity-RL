{
 "cells": [
  {
   "cell_type": "code",
   "execution_count": 285,
   "metadata": {},
   "outputs": [],
   "source": [
    "import numpy as np\n",
    "import matplotlib.pyplot as plt"
   ]
  },
  {
   "cell_type": "code",
   "execution_count": 286,
   "metadata": {},
   "outputs": [],
   "source": [
    "xy_pos_data = np.load('xy_pos_data.npy')\n",
    "waypt_data = np.load('waypt_data.npy')\n",
    "oripoint_data = np.load('oripoint_data.npy')"
   ]
  },
  {
   "cell_type": "code",
   "execution_count": null,
   "metadata": {},
   "outputs": [],
   "source": [
    "plt.figure(figsize=(8, 8))\n",
    "plt.plot(xy_pos_data[:, 0], xy_pos_data[:, 1], marker='.', linestyle='None')\n",
    "plt.plot(waypt_data[:, 0], waypt_data[:, 1], marker='o', linestyle='None')\n",
    "plt.plot(oripoint_data[:, 0], oripoint_data[:, 1], marker='x', linestyle='None')\n",
    "plt.title('end point distribution')\n",
    "plt.xlabel('x')\n",
    "plt.ylabel('y')\n",
    "plt.xlim(-1, 7)\n",
    "plt.ylim(-0.5, 0.5)\n",
    "plt.grid()\n",
    "plt.gca().set_aspect('equal', adjustable='box')\n",
    "plt.show()"
   ]
  }
 ],
 "metadata": {
  "kernelspec": {
   "display_name": "Python 3",
   "language": "python",
   "name": "python3"
  },
  "language_info": {
   "codemirror_mode": {
    "name": "ipython",
    "version": 3
   },
   "file_extension": ".py",
   "mimetype": "text/x-python",
   "name": "python",
   "nbconvert_exporter": "python",
   "pygments_lexer": "ipython3",
   "version": "3.12.1"
  }
 },
 "nbformat": 4,
 "nbformat_minor": 2
}
